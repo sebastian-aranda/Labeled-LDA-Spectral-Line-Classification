{
 "cells": [
  {
   "cell_type": "code",
   "execution_count": 1,
   "metadata": {
    "collapsed": true
   },
   "outputs": [],
   "source": [
    "import matplotlib.pyplot as plt\n",
    "import numpy as np\n",
    "import os\n",
    "import sys\n",
    "\n",
    "import pickle"
   ]
  },
  {
   "cell_type": "code",
   "execution_count": 7,
   "metadata": {},
   "outputs": [
    {
     "data": {
      "text/plain": [
       "<matplotlib.figure.Figure at 0x7f08708ec048>"
      ]
     },
     "metadata": {},
     "output_type": "display_data"
    }
   ],
   "source": [
    "results_avg = []\n",
    "for i in range(1,9):\n",
    "    filename = './results_csv/results.p-r.Schilke_OrionSurvey.'+str(i)+'-200.hot_cores_full.csv'\n",
    "    results = []\n",
    "    with open(filename) as f:\n",
    "        for line in f:\n",
    "            if \"Schilke_OrionSurvey\" in line:\n",
    "                tokens = line.split(',')\n",
    "                results.append((tokens[0],float(tokens[1]),float(tokens[2])))\n",
    "    precision_list = [x[1] for x in results]\n",
    "    recall_list = [x[2] for x in results]\n",
    "    results_avg.append((results[0][0],sum(precision_list)/float(len(precision_list)), sum(recall_list)/float(len(recall_list))))\n",
    "\n",
    "#print(results_avg)\n",
    "\n",
    "plt.figure(figsize=(24,16))\n",
    "x = range(len(results_avg))\n",
    "plt.bar(x, [i[1] for i in results_avg], align='center')\n",
    "plt.bar(x, [i[2] for i in results_avg], align='center')\n",
    "plt.ylabel('Score')\n",
    "#plt.title(\"\")\n",
    "plt.xticks(x, [i[0] for i in results_avg],rotation='vertical')\n",
    "plt.ylim(0, 1)\n",
    "\n",
    "#plt.tight_layout()\n",
    "plt.show()"
   ]
  }
 ],
 "metadata": {
  "kernelspec": {
   "display_name": "Python 3",
   "language": "python",
   "name": "python3"
  },
  "language_info": {
   "codemirror_mode": {
    "name": "ipython",
    "version": 3
   },
   "file_extension": ".py",
   "mimetype": "text/x-python",
   "name": "python",
   "nbconvert_exporter": "python",
   "pygments_lexer": "ipython3",
   "version": "3.6.3"
  }
 },
 "nbformat": 4,
 "nbformat_minor": 2
}
