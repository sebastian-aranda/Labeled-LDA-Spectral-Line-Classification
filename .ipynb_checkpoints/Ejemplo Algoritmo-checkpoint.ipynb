{
 "cells": [
  {
   "cell_type": "markdown",
   "metadata": {},
   "source": [
    "# Labeled LDA - Splatalogue -ALMA Spectral Line Classification\n",
    "\n",
    "En este notebook se presenta una propuesta para realizar clasificación de líneas espectrales sobre cubos de datos de observaciones del Atacama Large Milimeter/Submilimeter Array (ALMA), utilizando un modelo de mezclas conocido como Labeled Latent Dirichlet Allocation (LDA). Los modelos se entrenan con datos de una base de datos de transiciones moleculares llamada Splatalogue, para luego realizar inferencia sobre datos de observaciones."
   ]
  },
  {
   "cell_type": "markdown",
   "metadata": {},
   "source": [
    "## Creación de un modelo"
   ]
  },
  {
   "cell_type": "markdown",
   "metadata": {},
   "source": [
    "Se descargan los datos de transiciones de un filtro seleccionado desde Splatalogue (http://www.cv.nrao.edu/php/splat/index.php). Por ejemplo, se selecciona el filtro __Top20__ y se exportan los datos de sus transiciones en formato csv (asuma que los datos se guardan en un archivo __splatalogue_top20.csv__), luego se generan archivos .raw por cada esquema de _channeling_ a evaluar. A continuación se generan los archivos para _channeling_ 0, 2 y 5."
   ]
  },
  {
   "cell_type": "code",
   "execution_count": 44,
   "metadata": {
    "collapsed": true
   },
   "outputs": [],
   "source": [
    "!python ./catalogo_splat/splat2raw.py ./catalogo_splat/splatalogue_top20.csv 0 > ./catalogo_raw/top20_tr.raw\n",
    "!python ./catalogo_splat/splat2raw.py ./catalogo_splat/splatalogue_top20.csv 2 > ./catalogo_raw/top20_2.raw\n",
    "!python ./catalogo_splat/splat2raw.py ./catalogo_splat/splatalogue_top20.csv 5 > ./catalogo_raw/top20_full.raw"
   ]
  },
  {
   "cell_type": "markdown",
   "metadata": {},
   "source": [
    "Para entrenar los modelos L-LDA se utiliza una implementación en JAVA provista por Myle Ott, JGibbLabeledLDA (https://github.com/myleott/JGibbLabeledLDA). Es necesario obtener la representación necesaria según se indica en la documentación de JGibbLabeledLDA:\n",
    "\n",
    "[label_1,1 label_1,2 ... label_1,l_1] document_1<br>\n",
    "[label_2,1 label_2,2 ... label_2,l_2] document_2<br>\n",
    "...<br>\n",
    "[label_m,1 label_m,2 ... label_m,l_m] document_m<br>\n",
    "\n",
    "Por cada especie molecular de cada corpus se reunen las transiciones correspondientes, luego se generan las palabras en función de la energía de la transición. Por cada especie se genera un documento y un tópico (etiqueta) asociado. Los pasos siguientes demoran un poco, por favor sea paciente."
   ]
  },
  {
   "cell_type": "code",
   "execution_count": 8,
   "metadata": {
    "collapsed": true
   },
   "outputs": [],
   "source": [
    "#!g++ -std=c++0x -Icodes_mmmss/boost_1_67_0/ -o ./codes_mmmss/splat2data.o ./codes_mmmss/splat2data.cpp"
   ]
  },
  {
   "cell_type": "code",
   "execution_count": 46,
   "metadata": {
    "collapsed": true
   },
   "outputs": [],
   "source": [
    "!cp ./catalogo_raw/top20_tr.raw top20_tr.raw\n",
    "!./codes_mmmss/splat2data.o top20_tr.raw > top20_tr.dat\n",
    "!rm top20_tr.raw\n",
    "!mv top20_tr.dat ./llda_train_input/top20_tr.dat\n",
    "!mv top20_tr_labelmap.sub ./llda_train_input/top20_tr_labelmap.sub\n",
    "\n",
    "!cp ./catalogo_raw/top20_2.raw top20_2.raw\n",
    "!./codes_mmmss/splat2data.o top20_2.raw > top20_2.dat\n",
    "!rm top20_2.raw\n",
    "!mv top20_2.dat ./llda_train_input/top20_2.dat\n",
    "!mv top20_2_labelmap.sub ./llda_train_input/top20_2_labelmap.sub\n",
    "\n",
    "!cp ./catalogo_raw/top20_full.raw top20_full.raw\n",
    "!./codes_mmmss/splat2data.o top20_full.raw > top20_full.dat\n",
    "!rm top20_full.raw\n",
    "!mv top20_full.dat ./llda_train_input/top20_full.dat\n",
    "!mv top20_full_labelmap.sub ./llda_train_input/top20_full_labelmap.sub"
   ]
  },
  {
   "cell_type": "markdown",
   "metadata": {},
   "source": [
    "Una vez se obtiene el input de L-LDA para cada esquema de channeling se realiza un pre procesamiento de los datos en donde se eliminan aquellos documentos (filas) que no posean información."
   ]
  },
  {
   "cell_type": "code",
   "execution_count": 52,
   "metadata": {
    "scrolled": false
   },
   "outputs": [
    {
     "name": "stdout",
     "output_type": "stream",
     "text": [
      "Topics to clean: []\n"
     ]
    }
   ],
   "source": [
    "!python ./llda_train_input/get_blank.py ./llda_train_input/top20_tr.dat > blanks.tmp\n",
    "\n",
    "topics2clean = []\n",
    "with open(\"blanks.tmp\") as f:\n",
    "    for line in f:\n",
    "        if len(line) > 1:\n",
    "            topics2clean.append(int(line[1:-3]))\n",
    "print(\"Topics to clean: \" + str(topics2clean))\n",
    "\n",
    "for topic in reversed(topics2clean):\n",
    "    !python ./llda_train_input/fixer.py ./llda_train_input/top20_tr.dat ./llda_train_input/top20_tr_labelmap.sub $topic\n",
    "    !python ./llda_train_input/fixer.py ./llda_train_input/top20_2.dat ./llda_train_input/top20_2_labelmap.sub $topic\n",
    "    !python ./llda_train_input/fixer.py ./llda_train_input/top20_full.dat ./llda_train_input/top20_full_labelmap.sub $topic"
   ]
  },
  {
   "cell_type": "markdown",
   "metadata": {},
   "source": [
    "Se obtiene el mapa de características para ser usado posteriormente en la construcción de un documento a partir de un cubo de datos con formato FITS."
   ]
  },
  {
   "cell_type": "code",
   "execution_count": 54,
   "metadata": {},
   "outputs": [
    {
     "name": "stdout",
     "output_type": "stream",
     "text": [
      " 28232 ./llda_train_input/top20_2_features.dat\r\n",
      " 31481 ./llda_train_input/top20_full_features.dat\r\n",
      "  8742 ./llda_train_input/top20_tr_features.dat\r\n",
      " 68455 total\r\n"
     ]
    }
   ],
   "source": [
    "!python ./scripts/get_vocabulary.py ./llda_train_input/top20_tr.dat > ./llda_train_input/top20_tr_features.dat\n",
    "!python ./scripts/get_vocabulary.py ./llda_train_input/top20_2.dat > ./llda_train_input/top20_2_features.dat\n",
    "!python ./scripts/get_vocabulary.py ./llda_train_input/top20_full.dat > ./llda_train_input/top20_full_features.dat\n",
    "\n",
    "!wc -w ./llda_train_input/top20_*_features.dat"
   ]
  },
  {
   "cell_type": "markdown",
   "metadata": {},
   "source": [
    "Luego de realizar la limpieza se calculan los hiper parámetros $\\alpha$ y $\\beta$ para cada uno de los modelos. A continuación se presenta el detalle de los modelos evaluados:\n",
    "\n",
    "<table>\n",
    "<tr><th>Modelo</th><th>Tópicos (K)</th><th>Características (M)</th><th>$\\alpha$</th><th>$\\beta$</th></tr>\n",
    "<tr><td>Top20 Ch(0)</td><td>10</td><td>8742</td><td>5.0</td><td>0.0011</td></tr>\n",
    "<tr><td>Top20 Ch(2)</td><td>10</td><td>28232</td><td>5.0</td><td>0.0004</td></tr>\n",
    "<tr><td>Top20 Ch(5)</td><td>10</td><td>31481</td><td>5.0</td><td>0.0003</td></tr>\n",
    "</table>\n",
    "\n",
    "Posteriormente se generan los modelos de mezclas L-LDA utilizando la implementación JGibbLabeledLDA:"
   ]
  },
  {
   "cell_type": "code",
   "execution_count": 56,
   "metadata": {},
   "outputs": [
    {
     "name": "stdout",
     "output_type": "stream",
     "text": [
      "Trainning model model_top20_2_500it\n",
      "Dataset loaded:\n",
      "\tM:10\n",
      "\tV:28232\n",
      "Sampling 500 iterations!\n",
      "Iteration                                                                                                                                                                                                                                                                                                                                                                                                               1   1   1   1   1   1   1   1   1   1   1   1   1   1   1   1   1   1   1   1   1   1   1   1   1   1   1   1   1   1   1   1   1   1   1   1   1   1   1   1   1   1   1   1   1   1   1   1   1   1   1   1   1   1   1   1   1   1   1   1   1   1   1   1   1   1   1   1   1   1   1   1   1   1   1   1   1   1   1   1   1   1   1   1   1   1   1   1   1   1   1   1   1   1   1   1   1   1   1   1   2   2   2   2   2   2   2   2   2   2   2   2   2   2   2   2   2   2   2   2   2   2   2   2   2   2   2   2   2   2   2   2   2   2   2   2   2   2   2   2   2   2   2   2   2   2   2   2   2   2   2   2   2   2   2   2   2   2   2   2   2   2   2   2   2   2   2   2   2   2   2   2   2   2   2   2   2   2   2   2   2   2   2   2   2   2   2   2   2   2   2   2   2   2   2   2   2   2   2   2   3   3   3   3   3   3   3   3   3   3   3   3   3   3   3   3   3   3   3   3   3   3   3   3   3   3   3   3   3   3   3   3   3   3   3   3   3   3   3   3   3   3   3   3   3   3   3   3   3   3   3   3   3   3   3   3   3   3   3   3   3   3   3   3   3   3   3   3   3   3   3   3   3   3   3   3   3   3   3   3   3   3   3   3   3   3   3   3   3   3   3   3   3   3   3   3   3   3   3   3   4   4   4   4   4   4   4   4   4   4   4   4   4   4   4   4   4   4   4   4   4   4   4   4   4   4   4   4   4   4   4   4   4   4   4   4   4   4   4   4   4   4   4   4   4   4   4   4   4   4   4   4   4   4   4   4   4   4   4   4   4   4   4   4   4   4   4   4   4   4   4   4   4   4   4   4   4   4   4   4   4   4   4   4   4   4   4   4   4   4   4   4   4   4   4   4   4   4   4   4   5\n",
      "Saving the final model!\n",
      "Execution Time: 18.624144077301025 seconds\n",
      "Trainning model model_top20_full_500it\n",
      "Dataset loaded:\n",
      "\tM:10\n",
      "\tV:31481\n",
      "Sampling 500 iterations!\n",
      "Iteration                                                                                                                                                                                                                                                                                                                                                                                                               1   1   1   1   1   1   1   1   1   1   1   1   1   1   1   1   1   1   1   1   1   1   1   1   1   1   1   1   1   1   1   1   1   1   1   1   1   1   1   1   1   1   1   1   1   1   1   1   1   1   1   1   1   1   1   1   1   1   1   1   1   1   1   1   1   1   1   1   1   1   1   1   1   1   1   1   1   1   1   1   1   1   1   1   1   1   1   1   1   1   1   1   1   1   1   1   1   1   1   1   2   2   2   2   2   2   2   2   2   2   2   2   2   2   2   2   2   2   2   2   2   2   2   2   2   2   2   2   2   2   2   2   2   2   2   2   2   2   2   2   2   2   2   2   2   2   2   2   2   2   2   2   2   2   2   2   2   2   2   2   2   2   2   2   2   2   2   2   2   2   2   2   2   2   2   2   2   2   2   2   2   2   2   2   2   2   2   2   2   2   2   2   2   2   2   2   2   2   2   2   3   3   3   3   3   3   3   3   3   3   3   3   3   3   3   3   3   3   3   3   3   3   3   3   3   3   3   3   3   3   3   3   3   3   3   3   3   3   3   3   3   3   3   3   3   3   3   3   3   3   3   3   3   3   3   3   3   3   3   3   3   3   3   3   3   3   3   3   3   3   3   3   3   3   3   3   3   3   3   3   3   3   3   3   3   3   3   3   3   3   3   3   3   3   3   3   3   3   3   3   4   4   4   4   4   4   4   4   4   4   4   4   4   4   4   4   4   4   4   4   4   4   4   4   4   4   4   4   4   4   4   4   4   4   4   4   4   4   4   4   4   4   4   4   4   4   4   4   4   4   4   4   4   4   4   4   4   4   4   4   4   4   4   4   4   4   4   4   4   4   4   4   4   4   4   4   4   4   4   4   4   4   4   4   4   4   4   4   4   4   4   4   4   4   4   4   4   4   4   4   5\n",
      "Saving the final model!\n",
      "Execution Time: 20.25083589553833 seconds\n"
     ]
    }
   ],
   "source": [
    "!gzip -k ./llda_train_input/top20_tr.dat\n",
    "!python train_auto.py ./llda_train_input/top20_tr.dat.gz 5.0 0.0011 10 500 model_top20_tr_500it\n",
    "!rm ./llda_train_input/top20_tr.dat.gz\n",
    "\n",
    "!gzip -k ./llda_train_input/top20_2.dat\n",
    "!python train_auto.py ./llda_train_input/top20_2.dat.gz 5.0 0.0004 10 500 model_top20_2_500it\n",
    "!rm ./llda_train_input/top20_2.dat.gz\n",
    "\n",
    "!gzip -k ./llda_train_input/top20_full.dat\n",
    "!python train_auto.py ./llda_train_input/top20_full.dat.gz 5.0 0.0003 10 500 model_top20_full_500it\n",
    "!rm ./llda_train_input/top20_full.dat.gz"
   ]
  },
  {
   "cell_type": "markdown",
   "metadata": {},
   "source": [
    "Los modelos quedan guardados en ./llda_models/"
   ]
  },
  {
   "cell_type": "markdown",
   "metadata": {},
   "source": [
    "### Expansión de Términos"
   ]
  },
  {
   "cell_type": "markdown",
   "metadata": {},
   "source": [
    "Para mejorar el poder de predicción del algoritmo L-LDA se realiza una expansión de términos tratando de simular la curva de una transición que se observa en observaciones astronómicas. Este fenómeno se produce por Doppler Broadening, el estado de excitación de las particulas de un objeto de observación genera Redshift y Blueshift para las líneas espectrales."
   ]
  },
  {
   "cell_type": "code",
   "execution_count": 51,
   "metadata": {},
   "outputs": [
    {
     "data": {
      "image/png": "[encoded data removed]",
      "text/plain": [
       "<matplotlib.figure.Figure at 0x7fad27cc4b00>"
      ]
     },
     "metadata": {},
     "output_type": "display_data"
    },
    {
     "data": {
      "image/png": "[encoded data removed]",
      "text/plain": [
       "<matplotlib.figure.Figure at 0x7fad280470f0>"
      ]
     },
     "metadata": {},
     "output_type": "display_data"
    }
   ],
   "source": [
    "%run /home/sebastian/codigos/python/doppler_broadening.py\n",
    "%run /home/sebastian/codigos/python/gaussian_plot.py"
   ]
  },
  {
   "cell_type": "markdown",
   "metadata": {},
   "source": [
    "La expansión se realiza para el modelo de máxima resolución ($channeling = 5$). Se establece un soporte $\\tau = 0.01000\\,[GHz]$ y una expansión de $\\chi = 3$ vecinos hacia cada lado."
   ]
  },
  {
   "cell_type": "code",
   "execution_count": 57,
   "metadata": {},
   "outputs": [
    {
     "name": "stdout",
     "output_type": "stream",
     "text": [
      "Reading Species 10/10\n",
      "Execution Time: 104.62991404533386 seconds\n"
     ]
    }
   ],
   "source": [
    "!cp ./llda_train_input/top20_full.dat .\n",
    "!python ./scripts/frequency_expander.py top20_full.dat 3 0.01000\n",
    "!mv top20_full_expanded.dat ./llda_train_input/top20_full_expanded_01000_x3.dat\n",
    "!rm top20_full.dat\n",
    "!python ./scripts/get_vocabulary.py ./llda_train_input/top20_full_expanded_01000_x3.dat > ./llda_train_input/top20_full_expanded_01000_x3_features.dat"
   ]
  },
  {
   "cell_type": "markdown",
   "metadata": {},
   "source": [
    "Se entrena el nuevo modelo"
   ]
  },
  {
   "cell_type": "code",
   "execution_count": 59,
   "metadata": {},
   "outputs": [
    {
     "name": "stdout",
     "output_type": "stream",
     "text": [
      "Trainning model model_top20_full_expanded_01000_x3_500it\n",
      "Dataset loaded:\n",
      "\tM:10\n",
      "\tV:220263\n",
      "Sampling 500 iterations!\n",
      "Iteration                                                                                                                                                                                                                                                                                                                                                                                                               1   1   1   1   1   1   1   1   1   1   1   1   1   1   1   1   1   1   1   1   1   1   1   1   1   1   1   1   1   1   1   1   1   1   1   1   1   1   1   1   1   1   1   1   1   1   1   1   1   1   1   1   1   1   1   1   1   1   1   1   1   1   1   1   1   1   1   1   1   1   1   1   1   1   1   1   1   1   1   1   1   1   1   1   1   1   1   1   1   1   1   1   1   1   1   1   1   1   1   1   2   2   2   2   2   2   2   2   2   2   2   2   2   2   2   2   2   2   2   2   2   2   2   2   2   2   2   2   2   2   2   2   2   2   2   2   2   2   2   2   2   2   2   2   2   2   2   2   2   2   2   2   2   2   2   2   2   2   2   2   2   2   2   2   2   2   2   2   2   2   2   2   2   2   2   2   2   2   2   2   2   2   2   2   2   2   2   2   2   2   2   2   2   2   2   2   2   2   2   2   3   3   3   3   3   3   3   3   3   3   3   3   3   3   3   3   3   3   3   3   3   3   3   3   3   3   3   3   3   3   3   3   3   3   3   3   3   3   3   3   3   3   3   3   3   3   3   3   3   3   3   3   3   3   3   3   3   3   3   3   3   3   3   3   3   3   3   3   3   3   3   3   3   3   3   3   3   3   3   3   3   3   3   3   3   3   3   3   3   3   3   3   3   3   3   3   3   3   3   3   4   4   4   4   4   4   4   4   4   4   4   4   4   4   4   4   4   4   4   4   4   4   4   4   4   4   4   4   4   4   4   4   4   4   4   4   4   4   4   4   4   4   4   4   4   4   4   4   4   4   4   4   4   4   4   4   4   4   4   4   4   4   4   4   4   4   4   4   4   4   4   4   4   4   4   4   4   4   4   4   4   4   4   4   4   4   4   4   4   4   4   4   4   4   4   4   4   4   4   4   5\n",
      "Saving the final model!\n",
      "Execution Time: 56.63762307167053 seconds\n"
     ]
    }
   ],
   "source": [
    "!gzip -k llda_train_input/top20_full_expanded_01000_x3.dat\n",
    "!python train_auto.py llda_train_input/top20_full_expanded_01000_x3.dat.gz 0.4 0.1 132 500 model_top20_full_expanded_01000_x3_500it\n",
    "!rm llda_train_input/top20_full_expanded_01000_x3.dat.gz"
   ]
  },
  {
   "cell_type": "markdown",
   "metadata": {},
   "source": [
    "## Procesamiento del FITS"
   ]
  },
  {
   "cell_type": "markdown",
   "metadata": {},
   "source": [
    "A continuación se realiza el procesamiento de los cubos de datos en formato FITS. La idea es representar los espectros de los cubos de datos como documentos, para esto se realiza un procesamiento de los FITS que los transforma a esta representación. Se ejemplifica el caso de un FITS con nombre __DMTau.CS_5-4.image.fits__"
   ]
  },
  {
   "cell_type": "code",
   "execution_count": 41,
   "metadata": {
    "scrolled": true
   },
   "outputs": [
    {
     "name": "stdout",
     "output_type": "stream",
     "text": [
      "Parsing Fits: ../FITS/Orion.methanol.cbc.contsub.image.fits\n",
      "sigma_thresshold: 1.5\n",
      "Estimated number of clusters: 1\n",
      "\n",
      "Freq/Energy Max: 229753394598.98422/38.3760285297\n",
      "\n",
      "Redshift: 2.439746766554356e-05 Restfreq of spectral line: 229759000000.0\n"
     ]
    },
    {
     "data": {
      "image/png": "[encoded data removed]",
      "text/plain": [
       "<matplotlib.figure.Figure at 0x7fad27e7e668>"
      ]
     },
     "metadata": {},
     "output_type": "display_data"
    },
    {
     "name": "stdout",
     "output_type": "stream",
     "text": [
      "Generated File:\n",
      "22975752 22975752 22975752 22975752 22975752 22975752 22975752 22975752 22975752 22975752 22975752 22975752 22975752 22975752 22975752 22975752 22975760 22975760 22975760 22975760 22975760 22975876 22975876 22975876 22975876 22975876 22975876 22975878 22975878 22975878 22975878 22975878 22975878 22975878 22975878 22975878 22975878 22975878 22975878 22976052 22976052 22976052 22976052 22976052 22976052 22976052 22976052 22976052 22976052 22976052 22976052 22976052 22976052 22976052 22976052 22976052 22976162 22976162 22976162 22976162 22976162 22976162 22976162 22976162 22976162 22976162\n",
      "\n",
      "Parsing time: 0.7576196193695068 seconds\n"
     ]
    }
   ],
   "source": [
    "fits_name = \"../FITS/DMTau.CS_5-4.image.fits\"\n",
    "fits_name = \"../FITS/Orion.methanol.cbc.contsub.image.fits\"\n",
    "channeling = 5\n",
    "%run ./scripts/llda_parser.py $fits_name $channeling ./llda_train_input/test_full_features.dat -p"
   ]
  },
  {
   "cell_type": "markdown",
   "metadata": {},
   "source": [
    "## Evaluación del Algoritmo"
   ]
  },
  {
   "cell_type": "markdown",
   "metadata": {},
   "source": [
    "Se realiza inferencia sobre el documento generado desde el procesamiento del cubo de datos. Se debe incorporar el índice de la etiqueta de la especie que se desea clasificar, en este caso para el cubo de datos __DMTau.CS_5-4.image.fits__ se desea encontrar __Carbon Monosulfide (CS)__. Para realizar la inferencia se utilizará el modelo __Top20__ en máxima resolución (full): $channeling = 5$"
   ]
  },
  {
   "cell_type": "code",
   "execution_count": 60,
   "metadata": {},
   "outputs": [
    {
     "name": "stdout",
     "output_type": "stream",
     "text": [
      "0 Carbon Monoxide\r\n",
      "1 Hydrogen Cyanide\r\n",
      "2 Formaldehyde\r\n",
      "3 Sulfur dioxide\r\n",
      "4 Methanol\r\n",
      "5 Formylium\r\n",
      "6 Ammonia\r\n",
      "7 Carbon Monosulfide\r\n",
      "8 Silicon Monoxide\r\n",
      "9 Water\r\n"
     ]
    }
   ],
   "source": [
    "cat ./llda_train_input/top20_full_labelmap.sub"
   ]
  },
  {
   "cell_type": "code",
   "execution_count": 65,
   "metadata": {},
   "outputs": [
    {
     "name": "stdout",
     "output_type": "stream",
     "text": [
      "Parsing Fits: ../../FITS/DMTau.CS_5-4.image.fits\n",
      "sigma_thresshold: 2.5\n",
      "Estimated number of clusters: 1\n",
      "\n",
      "Freq/Energy Max: 244929904058.8581/1.13188068729\n",
      "\n",
      "Redshift: 2.3079832426457423e-05 Restfreq of spectral line: 244935557000.0\n",
      "Generated File:\n",
      "24493222 24493389 24493389 24493556 24493556 24493556 24493556 24493556 24493556 24493556 24493722 24493722 24493722 24493722 24493722 24493722\n",
      "\n",
      "Parsing time: 0.9779708385467529 seconds\n",
      "Used model: model_top20_full_expanded_01000_x3_500it\n",
      "Dataset loaded:\n",
      "\tM:1\n",
      "\tV:4\n",
      "Model loaded:\n",
      "\talpha:0.4\n",
      "\tbeta:0.1\n",
      "\tK:132\n",
      "\tM:10\n",
      "\tV:220263\n",
      "Dataset loaded:\n",
      "\tM:1\n",
      "\tV:4\n",
      "Sampling 200 iterations for inference!\n",
      "Iteration                                                                                                                                                                                                                                                                                                                                                                                                               1   1   1   1   1   1   1   1   1   1   1   1   1   1   1   1   1   1   1   1   1   1   1   1   1   1   1   1   1   1   1   1   1   1   1   1   1   1   1   1   1   1   1   1   1   1   1   1   1   1   1   1   1   1   1   1   1   1   1   1   1   1   1   1   1   1   1   1   1   1   1   1   1   1   1   1   1   1   1   1   1   1   1   1   1   1   1   1   1   1   1   1   1   1   1   1   1   1   1   1   2\n",
      "Saving the inference outputs!\n",
      "Prob: 0.23837209302325577 Last Prob: 0.005813953488372092\n",
      "¡MATCH in TOP@1! For Carbon Monosulfide(7) Model[model_top20_full_expanded_01000_x3_500it] FITS[../../FITS/DMTau.CS_5-4.image.fits]: 0.23837209302325577\n",
      "\n",
      "L-LDA inference time: 2.467336416244507 seconds\n",
      "Total execution time: 6.410787105560303 seconds\n",
      "\n"
     ]
    }
   ],
   "source": [
    "import os\n",
    "os.chdir('/home/sebastian/memoria/llda_spectral_lines/')\n",
    "\n",
    "fits_name = \"../../FITS/DMTau.CS_5-4.image.fits\"\n",
    "model = \"./llda_models/model_top20_full_expanded_01000_x3_500it/\"\n",
    "features = \"./llda_train_input/top20_full_expanded_01000_x3_features.dat\"\n",
    "labelmap = \"./llda_train_input/top20_full_labelmap.sub\"\n",
    "channeling = 5\n",
    "species_no = 7\n",
    "\n",
    "!python ./inference.py $model $features $labelmap $channeling $fits_name $species_no"
   ]
  },
  {
   "cell_type": "markdown",
   "metadata": {},
   "source": [
    "## Referencias"
   ]
  },
  {
   "cell_type": "markdown",
   "metadata": {},
   "source": [
    "<ol>\n",
    "<li>M. Mendoza, A. Barrientos, M. Solar, and M. Araya.  Mixed membership models for\n",
    "source separation of spectral lines.  In\n",
    "8th International Conference of Pattern Recog-\n",
    "nition Systems (ICPRS 2017)\n",
    ", pages 1–6, July 2017.</li>\n",
    "</ol>"
   ]
  }
 ],
 "metadata": {
  "kernelspec": {
   "display_name": "Python 3",
   "language": "python",
   "name": "python3"
  },
  "language_info": {
   "codemirror_mode": {
    "name": "ipython",
    "version": 3
   },
   "file_extension": ".py",
   "mimetype": "text/x-python",
   "name": "python",
   "nbconvert_exporter": "python",
   "pygments_lexer": "ipython3",
   "version": "3.6.3"
  }
 },
 "nbformat": 4,
 "nbformat_minor": 2
}
